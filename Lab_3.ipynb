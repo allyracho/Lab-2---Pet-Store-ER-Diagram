{
  "nbformat": 4,
  "nbformat_minor": 0,
  "metadata": {
    "colab": {
      "name": "Lab 3",
      "provenance": [],
      "collapsed_sections": []
    },
    "kernelspec": {
      "name": "python3",
      "display_name": "Python 3"
    }
  },
  "cells": [
    {
      "cell_type": "markdown",
      "metadata": {
        "id": "SfYGPaLSlDhx",
        "colab_type": "text"
      },
      "source": [
        "\n",
        "https://drive.google.com/file/d/1HpyQbMFdwG4GHMZ-Pt9UnsR2QrAcYHzy/view?usp=sharing\n",
        "\n",
        "We created an ER diagram of our pet shop. The diagram consists of six different tables: loyalty program, animal transaction, food transaction, food, aquarium and enclosure. Different tables record different parts of information about our business. The loyalty program table records all the information about the customers that have signed up, and it would also record the amount of the points that the customers gain from their purchases. The attributes include first and last name, date of birth, address, phone number, email, and points. The primary key is the account ID. The loyalty points are gained from the two kinds of major transactions in the sphere of our business, food and animals. In the food transaction table, we would record information such as the item’s name, how much it cost and how many food products were purchased. There is a relationship between this table and the loyalty program table. The relationship is M:M; and when a person buys food, they gain points. The food transaction table also has a relationship with the food table, so we can check the brand of food, the flavor, the price, the quantity, and the location from that. The animal transaction table would have the similar use as the food transaction table. The attributes include name, pet ID, fish ID, price and quantity. Pet ID and fish ID are foreign keys in this table because they are the primary keys in the aquarium and enclosure table. A relationship occurs between the transaction tables and the loyalty program. There are two 1:M relationships between the animal transaction table, one connecting to the aquarium table and the other connecting to the enclosure table. In these two tables, we can check the names of the animals, their types, their locations, and their food type. We even can see the pet’s date of birth. Food is considered to be a foreign key in both the aquarium and enclosure table because it is the primary key in the food table. Using these entities, attributes and relationships, our goals can hopefully be achieved and create a successful database for the user. "
      ]
    }
  ]
}