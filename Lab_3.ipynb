{
  "nbformat": 4,
  "nbformat_minor": 0,
  "metadata": {
    "colab": {
      "name": "Lab 3",
      "provenance": [],
      "collapsed_sections": [],
      "include_colab_link": true
    },
    "kernelspec": {
      "name": "python3",
      "display_name": "Python 3"
    }
  },
  "cells": [
    {
      "cell_type": "markdown",
      "metadata": {
        "id": "view-in-github",
        "colab_type": "text"
      },
      "source": [
        "<a href=\"https://colab.research.google.com/github/allyracho/Lab-2---Pet-Store-ER-Diagram/blob/master/Lab_3.ipynb\" target=\"_parent\"><img src=\"https://colab.research.google.com/assets/colab-badge.svg\" alt=\"Open In Colab\"/></a>"
      ]
    },
    {
      "cell_type": "code",
      "metadata": {
        "id": "0kpMe03diaqc",
        "colab_type": "code",
        "colab": {}
      },
      "source": [
        ""
      ],
      "execution_count": 0,
      "outputs": []
    },
    {
      "cell_type": "markdown",
      "metadata": {
        "id": "SfYGPaLSlDhx",
        "colab_type": "text"
      },
      "source": [
        "# ![alt text](https://www.draw.io/lightbox=1&highlight=0000ff&edit=_blank&layers=1&nav=1&title=Lab%202#R7V1tc5s4F%2F01ntn9kAzizfijnZe226Trtnm23f2mGGyzxcgF3MT76x8Bkg1ckeAY2TCjJJOxBAghHR2Jc6%2BuB8bV6vldhNfLe%2BJ6wUDX3OeBcT3QdcdB9H%2Basc0zLFPLMxaR7%2BZZaJ%2Fx1f%2FPY5n8tI3venHpxISQIPHX5cwZCUNvlpTycBSRp%2FJpcxKU77rGCw9kfJ3hAOZ%2B891kyR7L0vb57z1%2FseR3Rho7ssL8ZJYRL7FLngpZxs3AuIoISfJPq%2BcrL0jbjrdLft1tzdFdxSIvTJpc8L%2FxP9r88x%2Fv7eBh%2Bte7D9eP05%2FRBTLzYn7hYMOeePxzgyN%2Fs2K1Tra8KeInfxXgkKYmcxImX9kRjaZnSz9w7%2FCWbNKqxAme%2FeCpyZJE%2Fn%2F0fBzQQ4hm0MNRwnpad9LS%2FCC4IgGJsvsYnpb%2Blq78mpbI7hV5Mb12yp8bVbLu8XPpxDscJ7yWJAjwOvYfs3qnF65wtPDDCUkSsmIn8ae8LVdqnv3Q4zjwFyHNm9F7eRFvi%2FxpaGsaE9gvrKt%2BeVHiPReyWD%2B988jKS6ItPYUdHTLIsDFjWHaeftojENnsnGURfTwTM9QvdkXvgUE%2FMGwcghML4OTWj5cfriFKlnidfqQNkPg4%2BEIHJQ4X6dFJQtaskQNvzjslYtVPPz%2FyjkCFhs7PnaSt59NxOWbZK991s1KL6AlJBs94jWd%2BuLjL72KY%2B6wv7G5pFqFFzoNsSC5pYV6Y1oYkOMGPO2CviR8mWWNaE%2FpHm%2FdKu7QGFn3SK5pG%2BzT9S0%2BPkisSxkmE%2Faz3PYq%2BJy9F4MSNyPqB4s3jT1scRFYFSLoQSC8P4dfhxfBEB10jOBnS0GQDNE0%2FHo2kx%2BIwFqCiKaDK6GkNPK%2FhI31MBv23IsGqQcJuemSVK81AJYQUIGGcFBFDgIhPeOXJYRftdTBkhfWcWk5BJVZDKtFtWcBxAHDOTSQ5dvrLIsMaELTGItLAoBsADA9b2vW6Rub0X7piUYzScUZxzIaMYsoCEXwlUoxyFKPshqU8RpEFBjQCYLgjM5z4JFRM0nEmQdq5Fydc%2BlFU0triZFSDgh4sThAAwy0hrqKRrtOI0XRFIg05OkTO2eWSnhNJrSjbAyKBWuxDhMMYz%2FJliXaRvusIqUWGgm8PlIIPFHzDKkv4yLKakQgypb3XQNF1gqMZcSWpbErDP4CN6pTbeg2%2FoUlImmKrQ8VWafgtzEt2DRK6r%2BHrUIpVGv7JF7iHU0lT67K8BQ0UWc5NJH1f3To1IOj%2B6taAmsk08meKRrpOI45%2BZhoxoMCiaOQoGtmNxR7SCNRMPm9wmPjJVjFJx5nk%2FMK9AQ3JikqOoxK9BgU9oBIJBmFFIZIppKloj2S9DRtQpVUUchyF1JluWqMQeWCA2usd2eIgXYxo04gsInwif3ul1gvUehtV1HqzoVqvW9IQA%2BXV8WxGNmGifO7Pr9cbdSptd%2FV6A6qzSq9vYVKS7i0rDxFQdr1Vgv3JF7eHc8nZBXsTarTnZpK%2Br23769dmQtn1TtFID2jk7IK9CTVaRSNH0YjZX682E0qu139OFIl0nETOr9Wbar9O2ywif7%2BONDBA1fVmhX16Hb2j8YyzRth9HLtu5MWx%2BOB0mfa1rn3arB69qOacvGeKxxRfdZuvGhsGkDSMQjFYEdZxhCU98AFFw6VW%2FEGywAFluptwFpB4EwneqJSFYHAaC0ElIo%2FFp8hXVz2aLPXOhOrd1FPGgQ4YB8w658vuGgcsKOgp40AL85J0VU8eIqCqp0S9k69vD6eSs9sGLCXqtcwiVn9FPQt6MRQD8oxDf0UXoYpTus0pjQ0FjiwYqSBfbXOK%2FCBf0sAAJb7MUCDS5%2FJd8KIjKopPT8gHcd%2B819hnJG0pLNLrhGg7%2BytT31lJuo4nDSR2A3dvz114XF%2Fwsq1IX7wgY6Gb%2FRHQdstkxXU6L3THaUxzmrz5QgHxQO5xuE0PPPvJ97TTLkeOw9J%2F0%2FSFdqkNhyzjmstwWWJbSEy9yKfNkIpneV5Im%2BQ7ux4hnvN3dgfDtHjGvsQstS2mqmVCCLCejckmmnkNUJFw%2Fqk7kYcOTNv5RWopUokmUnt5ZpT1zy%2BvVGERdtg9MnvQXjXUeXRSHsjbqSy082dnV%2B0RCAoyzLL%2BaPIlGS8obxtQUAbl3YMfgW5BwGZa8yWOvRjAnA7dpIzbTPd9kVfwJiExA%2F2BNPeQ8eiFyfkrndRp2rZeAl1z5Vd3qtLvCMxHQ6HyK4tp4DuVZKZZ5SSTWQlAbokrNLvIFehSfwtTcDJDlHuMAplpl8jQD%2Bayt%2FOO3pR3uA9wZ3jH0sqYRcYbeceuFlSdPyXzzhDq0u%2B81OCucct7F7kHtUQ9Frdr8ta3oa%2BNc0rqGTbYYX9K6tkTRU48O6Iw2qOJ7gxq7pDAFxMj%2B9J647Cu7HfSR1a1KNkDG6rEPRjYKR%2B1M7J59KxdB0DZ%2FrQjG1qTYUzBOrlWeSEMTuOFYNh6mQKGAmvP0BLhRhZwHDhD5zApwEc5JZzfKWFYZ4o%2ByClBhC1pJmgHrjaUU8LxIttuxPbPKYGrHsop4Zwa%2FuFUInJKEE5TsuzQjorn0zaL6DUg6L5TggM3jDDPSaFRh33NoXLx7wvbiNwVRGxjybJQO4Ivy%2FyoTIZyeEh6UCB5MBEYVfJIpyKk7KMXio4qUuo4KSFuwXuNlaR9ha%2FTwG6kuOcg7pEeq10aGEZQtgFgkOiuwG2GOxtgLtu%2F6ljABf9BUey3Bi%2BJ%2FbAvm9r%2FUGO%2FA9Z2nTEV6FV3gWoRb%2FU7MKoFSTYTjAQSULf9DoyWLARVtwNjBEPSyXI7wP9M7p6sh5%2FjOdYv3H9vpp%2FG2gXsid%2FSmff%2B9272Q1s2WL1igzWGcP%2Bwecp%2BgEpGp%2Fvhwm5rQFS3YI6gH85JOwKqCL%2Fdd7gjWnNKQGXTJTKhU4J1yn6AL9ud7ofWHNMsvTJDmFBlldURH%2F7V%2Fvjx8f3Hv76Nv69mY%2Bvp87dbwQyhvoSuS5vWkQYZUxz6og0vaSFEoP0mh4imvonu9HbiFwdxJ%2FeuC2sMF0TKSnyQtvHiSO20kVhYc7gum0Q4TEkm23M6r24JU8KpHOG0HXo55X52YY3V1zi0zCzSDTbSoADtNbcB%2FkV7TnFIpznklIFuhTVWlpeWOUS64UUaFJBgudrE6HtWhuknndCryA%2Bv8PKNxumvRKJpHAzXkgYvFQy3ZapB0oPhSgODDhU5FfaiH0sWZDcMUyttouLEoZikNUmlF3G8xPg9eXSL5nvO0W6TOdskrsuLT%2FGSVPaqmwjfT94dNxGOF0Y6dnWX2FvdRFD1a%2FHacxMRwxO%2BYO1sgDZepawRPsbrrJe1ZlnHuJnU2Ax3pp5atRgykmiiLC1rWWZENqHruXxy3psb9bbM70aliw3BVyTqIk46XOelyYiQpIiRCK%2BX98T10jP%2BDw%3D%3D)\n",
        "\n",
        "We created an ER diagram of our pet shop. The diagram consists of six different tables: loyalty program, animal transaction, food transaction, food, aquarium and enclosure. Different tables record different parts of information about our business. The loyalty program table records all the information about the customers that have signed up, and it would also record the amount of the points that the customers gain from their purchases. The attributes include first and last name, date of birth, address, phone number, email, and points. The primary key is the account ID. The loyalty points are gained from the two kinds of major transactions in the sphere of our business, food and animals. In the food transaction table, we would record information such as the item’s name, how much it cost and how many food products were purchased. There is a relationship between this table and the loyalty program table. The relationship is M:M; and when a person buys food, they gain points. The food transaction table also has a relationship with the food table, so we can check the brand of food, the flavor, the price, the quantity, and the location from that. The animal transaction table would have the similar use as the food transaction table. The attributes include name, pet ID, fish ID, price and quantity. Pet ID and fish ID are foreign keys in this table because they are the primary keys in the aquarium and enclosure table. A relationship occurs between the transaction tables and the loyalty program. There are two 1:M relationships between the animal transaction table, one connecting to the aquarium table and the other connecting to the enclosure table. In these two tables, we can check the names of the animals, their types, their locations, and their food type. We even can see the pet’s date of birth. Food is considered to be a foreign key in both the aquarium and enclosure table because it is the primary key in the food table. Using these entities, attributes and relationships, our goals can hopefully be achieved and create a successful database for the user. "
      ]
    }
  ]
}